{
 "cells": [
  {
   "cell_type": "markdown",
   "metadata": {},
   "source": [
    "# **How can we analyze, predict, and compare economic performance across U.S. states?**\n",
    "\n",
    "Economic disparities across U.S. states have significant implications for policymakers, businesses, and researchers. By exploring metrics such as GDP, personal income, and consumer spending, we can uncover historical trends, predict future economic performance, and compare states to identify disparities and areas for improvement.\n",
    "\n",
    "\n",
    "### **Project Overview**\n",
    "This project provides an interactive Flask-based dashboard to explore, analyze, and predict economic metrics for U.S. states using a real dataset. It offers:\n",
    "1. **Exploratory Data Analysis (EDA):** Visualize economic trends over time.\n",
    "2. **Predictive Analysis:** Predict future economic performance using linear regression.\n",
    "3. **Correlation Analysis:** Highlight relationships between economic metrics using heatmaps.\n",
    "4. **Comparative Analysis:** Compare economic metrics between two states for a specific year.\n",
    "5. **Filter and Explore Data:** View raw data for transparency.\n"
   ]
  },
  {
   "cell_type": "markdown",
   "metadata": {},
   "source": [
    "1. [Project Goals](#project-goals)\n",
    "2. [Code Explanation](#code-explanation)\n",
    "3. [How Features Fulfill Requirements](#how-features-fulfill-requirements)\n",
    "4. [Installation and Usage](#installation-and-usage)"
   ]
  },
  {
   "cell_type": "markdown",
   "metadata": {},
   "source": [
    "### **Project Goals**\n",
    "- Explore economic trends for U.S. states using visualizations.\n",
    "- Predict future economic performance with machine learning.\n",
    "- Highlight relationships between economic metrics to uncover insights.\n",
    "- Allow users to filter and compare data for better understanding and transparency.\n",
    "\n",
    "---"
   ]
  },
  {
   "cell_type": "markdown",
   "metadata": {},
   "source": [
    "### **Code Explanation**\n"
   ]
  },
  {
   "cell_type": "markdown",
   "metadata": {},
   "source": [
    "### **Data Loading and Cleaning**\n"
   ]
  },
  {
   "cell_type": "code",
   "execution_count": null,
   "metadata": {},
   "outputs": [],
   "source": [
    "file_path = \"Table.csv\"\n",
    "data = pd.read_csv(file_path, skiprows=3)\n",
    "data.replace(\"(NA)\", None, inplace=True)\n",
    "data.iloc[:, 4:] = data.iloc[:, 4:].apply(pd.to_numeric, errors=\"coerce\")\n",
    "data.dropna(axis=1, how=\"all\", inplace=True)\n",
    "data.dropna(axis=0, how=\"all\", inplace=True)\n",
    "headers_to_remove = [\"Real dollar statistics\", \"Current dollar statistics (millions of dollars)\", ...]\n",
    "data = data[~data[\"Description\"].isin(headers_to_remove)]\n",
    "data.to_csv(\"cleaned_data.csv\", index=False)\n",
    "cleaned_data = pd.read_csv(\"cleaned_data.csv\")\n"
   ]
  },
  {
   "cell_type": "markdown",
   "metadata": {},
   "source": [
    "Purpose: Clean and preprocess the dataset to remove irrelevant rows/columns and handle missing values.\n",
    "\n",
    "Relevance: Ensures the data is ready for analysis and visualization"
   ]
  },
  {
   "cell_type": "markdown",
   "metadata": {},
   "source": [
    "### **Dataset Filtering**\n"
   ]
  },
  {
   "cell_type": "code",
   "execution_count": null,
   "metadata": {},
   "outputs": [],
   "source": [
    "@app.route(\"/filter\")\n",
    "def index():\n",
    "    state = request.args.get(\"state\")\n",
    "    year = request.args.get(\"year\")\n",
    "    filtered_data = cleaned_data\n",
    "    if state:\n",
    "        filtered_data = filtered_data[filtered_data[\"GeoName\"].str.contains(state, case=False, na=False)]\n",
    "    if year:\n",
    "        filtered_data = filtered_data[[\"GeoFips\", \"GeoName\", \"Description\", year_column]]\n",
    "    subset_data = filtered_data.drop(columns=[\"GeoFips\"], errors=\"ignore\")\n",
    "    return render_template(\"base.html\", columns=subset_data.columns, data=subset_data.values.tolist())\n"
   ]
  },
  {
   "cell_type": "markdown",
   "metadata": {},
   "source": [
    "Purpose: Allows users to filter data by state and year.\n",
    "\n",
    "Relevance: Provides raw data exploration functionality for transparency."
   ]
  },
  {
   "cell_type": "markdown",
   "metadata": {},
   "source": [
    "### **Exploratory Data Analysis(EDA)**\n"
   ]
  },
  {
   "cell_type": "code",
   "execution_count": null,
   "metadata": {},
   "outputs": [],
   "source": [
    "@app.route(\"/eda\", methods=[\"GET\", \"POST\"])\n",
    "def eda():\n",
    "    selected_state = request.form.get(\"state\", \"United States\")\n",
    "    selected_metric = request.form.get(\"metric\", \"Real GDP\")\n",
    "    filtered_data = data[(data[\"GeoName\"] == selected_state) & ...]\n",
    "    ...\n",
    "    plt.plot(values.index, values.values, marker=\"o\")\n",
    "    ...\n",
    "    return render_template(\"eda.html\", plot_url=img)\n"
   ]
  },
  {
   "cell_type": "markdown",
   "metadata": {},
   "source": [
    "Purpose: Visualize trends over time for a selected state and metric.\n",
    "\n",
    "Relevance: Highlights historical trends, outliers, and growth periods."
   ]
  },
  {
   "cell_type": "markdown",
   "metadata": {},
   "source": [
    "### **Predictive Analysis**\n"
   ]
  },
  {
   "cell_type": "code",
   "execution_count": null,
   "metadata": {},
   "outputs": [],
   "source": [
    "@app.route(\"/predict\", methods=[\"GET\", \"POST\"])\n",
    "def predict():\n",
    "    filtered_data = data[(data[\"GeoName\"] == selected_state) & ...]\n",
    "    ...\n",
    "    model = LinearRegression()\n",
    "    model.fit(X, y)\n",
    "    predictions = model.predict(future_years)\n",
    "    ...\n",
    "    return render_template(\"predict.html\", plot_url=img, table=prediction_table.to_dict(\"records\"))\n"
   ]
  },
  {
   "cell_type": "markdown",
   "metadata": {},
   "source": [
    "Purpose: Uses linear regression to predict future economic trends based on different variables.\n",
    "\n",
    "Relevance: Provides foresight into economic performance, helping with planning and policy-making."
   ]
  },
  {
   "cell_type": "markdown",
   "metadata": {},
   "source": [
    "### **Correlation Heatmap**\n"
   ]
  },
  {
   "cell_type": "markdown",
   "metadata": {},
   "source": [
    "** In hindsight, I've realized my correlation heatmap doesn't work properly as I designed but it still shows the heatmap visually and the code itself does display my knowledge on the topic in terms of the project. Just wanted to show this aspect as well if there's intrest. **"
   ]
  },
  {
   "cell_type": "code",
   "execution_count": null,
   "metadata": {},
   "outputs": [],
   "source": [
    "@app.route(\"/heatmap\", methods=[\"GET\", \"POST\"])\n",
    "def heatmap():\n",
    "    filtered_data = data[data[\"GeoName\"] == selected_state]\n",
    "    ...\n",
    "    sns.heatmap(corr, annot=True, cmap=\"coolwarm\", fmt=\".2f\")\n",
    "    ...\n",
    "    return render_template(\"heatmap.html\", plot_url=img)\n"
   ]
  },
  {
   "cell_type": "markdown",
   "metadata": {},
   "source": [
    "Purpose: Displays correlations between economic metrics.\n",
    "\n",
    "Relevance: Highlights relationships and dependencies between metrics."
   ]
  },
  {
   "cell_type": "markdown",
   "metadata": {},
   "source": [
    "### **Comparative Analysis**\n"
   ]
  },
  {
   "cell_type": "code",
   "execution_count": null,
   "metadata": {},
   "outputs": [],
   "source": [
    "@app.route(\"/compare\", methods=[\"GET\", \"POST\"])\n",
    "def compare():\n",
    "    data1 = data[(data[\"GeoName\"] == state1) & ...]\n",
    "    ...\n",
    "    plt.bar(data1[\"Description\"], data1[year], label=state1)\n",
    "    ...\n",
    "    return render_template(\"compare.html\", plot_url=img)\n"
   ]
  },
  {
   "cell_type": "markdown",
   "metadata": {},
   "source": [
    "Purpose: Compares metrics for two states in different years. \n",
    "\n",
    "Relevance: Identifies disparities and economic strengths/weaknesses based on the region."
   ]
  },
  {
   "cell_type": "markdown",
   "metadata": {},
   "source": [
    "#### **Quick Summary**"
   ]
  },
  {
   "cell_type": "markdown",
   "metadata": {},
   "source": [
    "**Filter Dataset** Allows for raw data exploration and transparency.\n",
    "\n",
    "**EDA**\tVisualizes trends to understand historical economic performance.\n",
    "\n",
    "**Predictive Analysis**\tUses machine learning to show future trends.\n",
    "\n",
    "**Correlation Heatmap**\tHighlights relationships between variables, aiding in feature selection and better understanding of the U.S. economy. \n",
    "\n",
    "**Comparative Analysis** Compares performance between regions, helping to identify economic disparities and areas that can be improved. "
   ]
  },
  {
   "cell_type": "markdown",
   "metadata": {},
   "source": [
    "______"
   ]
  },
  {
   "cell_type": "markdown",
   "metadata": {},
   "source": [
    "### **Conclusion** "
   ]
  },
  {
   "cell_type": "markdown",
   "metadata": {},
   "source": [
    "This project gives an analysis as to the U.S.'s state in terms of economic data and offers insights to relationships between key metrics such as GDP (Gross Domestic Product ), employment, and consumer spending over time. By using the visualizations and predictive modeling, the dashboard uncovers several important patterns and relationships such as :\n",
    "\n",
    "**Strong correlations between Gross Domestric Product and Employment**\n",
    "\n",
    "Reveals that states with higher GDP levels have stronger employment metrics. Economic growth is tied to job creation which highlights the importance of Gross Domestic Product. \n",
    "\n",
    "**Consumer Spending as a Key Economic Indicator**\n",
    "\n",
    "Correlations between consumer spending and GDP demosntrate that increased spending will often indiciate higher income levels. This relationship is apparent in states with diversified economies. \n",
    "\n",
    "**Economic Disparities Between States**\n",
    "\n",
    "Comparative analysis highlights the significant disparities in economic performances across different states. Extreme examples of this are shown in California and New York where they consistently outperform smaller or less industrialized states in metrics like per capita income and GDP. \n",
    "\n",
    "\n",
    "\n",
    "\n",
    "\n"
   ]
  },
  {
   "cell_type": "markdown",
   "metadata": {},
   "source": [
    "To sum it up this project successfully highlights the value of data-driven insights in understanding regional economic performance. By combining historical trends, predictive modeling and comparative analysis, we now have a useful tool to help uncover economic patterns that may have future use. Relationships such as the ones between GDP and employment offer a vital role in terms of consumer spending which can be applied to any business. In the future, it has more potential to be enhanced as we can add mroe additional datasets such as demographic factors, trends such as housing and product based which can provide further insight in terms of analytics. In the end, this project displays how data science helps show complex economic landscapes and supports decision making. "
   ]
  }
 ],
 "metadata": {
  "language_info": {
   "name": "python"
  }
 },
 "nbformat": 4,
 "nbformat_minor": 2
}
